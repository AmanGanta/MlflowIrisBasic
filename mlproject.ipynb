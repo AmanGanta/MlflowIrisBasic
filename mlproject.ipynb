{
 "cells": [
  {
   "cell_type": "code",
   "execution_count": 11,
   "metadata": {},
   "outputs": [],
   "source": [
    "import pandas as pd\n",
    "import numpy as np\n",
    "from sklearn.datasets import load_iris\n",
    "from sklearn.model_selection import train_test_split, GridSearchCV\n",
    "from sklearn.ensemble import RandomForestClassifier\n",
    "from sklearn.preprocessing import StandardScaler\n",
    "import mlflow\n",
    "from mlflow.models import infer_signature\n",
    "from sklearn.metrics import classification_report,accuracy_score"
   ]
  },
  {
   "cell_type": "code",
   "execution_count": 2,
   "metadata": {},
   "outputs": [],
   "source": [
    "iris = load_iris()\n",
    "data = pd.DataFrame(data=iris.data, columns=iris.feature_names)\n",
    "data['target'] = iris.target\n"
   ]
  },
  {
   "cell_type": "code",
   "execution_count": 3,
   "metadata": {},
   "outputs": [
    {
     "data": {
      "text/html": [
       "<div>\n",
       "<style scoped>\n",
       "    .dataframe tbody tr th:only-of-type {\n",
       "        vertical-align: middle;\n",
       "    }\n",
       "\n",
       "    .dataframe tbody tr th {\n",
       "        vertical-align: top;\n",
       "    }\n",
       "\n",
       "    .dataframe thead th {\n",
       "        text-align: right;\n",
       "    }\n",
       "</style>\n",
       "<table border=\"1\" class=\"dataframe\">\n",
       "  <thead>\n",
       "    <tr style=\"text-align: right;\">\n",
       "      <th></th>\n",
       "      <th>sepal length (cm)</th>\n",
       "      <th>sepal width (cm)</th>\n",
       "      <th>petal length (cm)</th>\n",
       "      <th>petal width (cm)</th>\n",
       "      <th>target</th>\n",
       "    </tr>\n",
       "  </thead>\n",
       "  <tbody>\n",
       "    <tr>\n",
       "      <th>0</th>\n",
       "      <td>5.1</td>\n",
       "      <td>3.5</td>\n",
       "      <td>1.4</td>\n",
       "      <td>0.2</td>\n",
       "      <td>0</td>\n",
       "    </tr>\n",
       "    <tr>\n",
       "      <th>1</th>\n",
       "      <td>4.9</td>\n",
       "      <td>3.0</td>\n",
       "      <td>1.4</td>\n",
       "      <td>0.2</td>\n",
       "      <td>0</td>\n",
       "    </tr>\n",
       "    <tr>\n",
       "      <th>2</th>\n",
       "      <td>4.7</td>\n",
       "      <td>3.2</td>\n",
       "      <td>1.3</td>\n",
       "      <td>0.2</td>\n",
       "      <td>0</td>\n",
       "    </tr>\n",
       "    <tr>\n",
       "      <th>3</th>\n",
       "      <td>4.6</td>\n",
       "      <td>3.1</td>\n",
       "      <td>1.5</td>\n",
       "      <td>0.2</td>\n",
       "      <td>0</td>\n",
       "    </tr>\n",
       "    <tr>\n",
       "      <th>4</th>\n",
       "      <td>5.0</td>\n",
       "      <td>3.6</td>\n",
       "      <td>1.4</td>\n",
       "      <td>0.2</td>\n",
       "      <td>0</td>\n",
       "    </tr>\n",
       "  </tbody>\n",
       "</table>\n",
       "</div>"
      ],
      "text/plain": [
       "   sepal length (cm)  sepal width (cm)  petal length (cm)  petal width (cm)  \\\n",
       "0                5.1               3.5                1.4               0.2   \n",
       "1                4.9               3.0                1.4               0.2   \n",
       "2                4.7               3.2                1.3               0.2   \n",
       "3                4.6               3.1                1.5               0.2   \n",
       "4                5.0               3.6                1.4               0.2   \n",
       "\n",
       "   target  \n",
       "0       0  \n",
       "1       0  \n",
       "2       0  \n",
       "3       0  \n",
       "4       0  "
      ]
     },
     "execution_count": 3,
     "metadata": {},
     "output_type": "execute_result"
    }
   ],
   "source": [
    "data.head()"
   ]
  },
  {
   "cell_type": "code",
   "execution_count": 4,
   "metadata": {},
   "outputs": [
    {
     "name": "stdout",
     "output_type": "stream",
     "text": [
      "\n",
      "Missing values:\n",
      " sepal length (cm)    0\n",
      "sepal width (cm)     0\n",
      "petal length (cm)    0\n",
      "petal width (cm)     0\n",
      "target               0\n",
      "dtype: int64\n"
     ]
    }
   ],
   "source": [
    "print(\"\\nMissing values:\\n\", data.isnull().sum())\n",
    "\n",
    "# Standardizing the features\n",
    "scaler = StandardScaler()\n",
    "X = scaler.fit_transform(data.iloc[:, :-1])  # Scale features only\n",
    "y = data['target']\n"
   ]
  },
  {
   "cell_type": "code",
   "execution_count": 5,
   "metadata": {},
   "outputs": [],
   "source": [
    "X_train, X_test, y_train, y_test = train_test_split(X, y, test_size=0.2, random_state=42)"
   ]
  },
  {
   "cell_type": "code",
   "execution_count": null,
   "metadata": {},
   "outputs": [
    {
     "name": "stderr",
     "output_type": "stream",
     "text": [
      "2024/12/28 14:13:19 INFO mlflow.tracking.fluent: Experiment with name 'Basic ML project' does not exist. Creating a new experiment.\n"
     ]
    },
    {
     "data": {
      "text/plain": [
       "<Experiment: artifact_location='mlflow-artifacts:/359615374808457462', creation_time=1735413199073, experiment_id='359615374808457462', last_update_time=1735413199073, lifecycle_stage='active', name='Basic ML project', tags={}>"
      ]
     },
     "execution_count": 7,
     "metadata": {},
     "output_type": "execute_result"
    }
   ],
   "source": [
    "mlflow.set_tracking_uri(uri=\" http://127.0.0.1:5000\")"
   ]
  },
  {
   "cell_type": "code",
   "execution_count": null,
   "metadata": {},
   "outputs": [
    {
     "name": "stdout",
     "output_type": "stream",
     "text": [
      "Fitting 5 folds for each of 27 candidates, totalling 135 fits\n",
      "\n",
      "Best parameters found by GridSearchCV: {'max_depth': None, 'min_samples_split': 5, 'n_estimators': 50}\n"
     ]
    }
   ],
   "source": [
    "model = RandomForestClassifier(random_state=42)\n",
    "param_grid = {\n",
    "'n_estimators': [50, 100, 150],\n",
    "'max_depth': [None, 10, 20],\n",
    "'min_samples_split': [2, 5, 10]\n",
    "}\n",
    "\n",
    "grid_search = GridSearchCV(estimator=model, param_grid=param_grid, cv=5, scoring='accuracy', verbose=2, n_jobs=-1)\n",
    "grid_search.fit(X_train, y_train)\n",
    "\n",
    "\n",
    "print(\"\\nBest parameters found by GridSearchCV:\", grid_search.best_params_)\n",
    "best_model = grid_search.best_estimator_"
   ]
  },
  {
   "cell_type": "code",
   "execution_count": 16,
   "metadata": {},
   "outputs": [
    {
     "name": "stderr",
     "output_type": "stream",
     "text": [
      "2024/12/28 14:40:30 INFO mlflow.tracking.fluent: Experiment with name 'ML project' does not exist. Creating a new experiment.\n"
     ]
    },
    {
     "data": {
      "text/plain": [
       "<Experiment: artifact_location='mlflow-artifacts:/802956528055571557', creation_time=1735414830297, experiment_id='802956528055571557', last_update_time=1735414830297, lifecycle_stage='active', name='ML project', tags={}>"
      ]
     },
     "execution_count": 16,
     "metadata": {},
     "output_type": "execute_result"
    }
   ],
   "source": [
    "mlflow.set_experiment(\"ML project\")"
   ]
  },
  {
   "cell_type": "code",
   "execution_count": 26,
   "metadata": {},
   "outputs": [
    {
     "name": "stdout",
     "output_type": "stream",
     "text": [
      "Fitting 5 folds for each of 27 candidates, totalling 135 fits\n",
      "\n",
      "Best parameters found by GridSearchCV: {'max_depth': None, 'min_samples_split': 5, 'n_estimators': 50}\n",
      "\n",
      "Training Accuracy: 0.975\n",
      "Test Accuracy: 1.0\n"
     ]
    },
    {
     "name": "stderr",
     "output_type": "stream",
     "text": [
      "c:\\Users\\amang\\Downloads\\Mlflow_me\\venv\\lib\\site-packages\\mlflow\\types\\utils.py:435: UserWarning: Hint: Inferred schema contains integer column(s). Integer columns in Python cannot represent missing values. If your input data contains missing values at inference time, it will be encoded as floats and will cause a schema enforcement error. The best way to avoid this problem is to infer the model schema based on a realistic data sample (training dataset) that includes missing values. Alternatively, you can declare integer columns as doubles (float64) whenever these columns may have missing values. See `Handling Integers With Missing Values <https://www.mlflow.org/docs/latest/models.html#handling-integers-with-missing-values>`_ for more details.\n",
      "  warnings.warn(\n",
      "Successfully registered model 'RandomForest'.\n",
      "2024/12/28 14:48:00 INFO mlflow.store.model_registry.abstract_store: Waiting up to 300 seconds for model version to finish creation. Model name: RandomForest, version 1\n"
     ]
    },
    {
     "name": "stdout",
     "output_type": "stream",
     "text": [
      "🏃 View run vaunted-calf-865 at:  http://127.0.0.1:5000/#/experiments/802956528055571557/runs/838d609496554cfe9e363f6ec41e8471\n",
      "🧪 View experiment at:  http://127.0.0.1:5000/#/experiments/802956528055571557\n"
     ]
    },
    {
     "name": "stderr",
     "output_type": "stream",
     "text": [
      "Created version '1' of model 'RandomForest'.\n"
     ]
    }
   ],
   "source": [
    "with mlflow.start_run():\n",
    "    model = RandomForestClassifier(random_state=42)\n",
    "    param_grid = {\n",
    "        'n_estimators': [50, 100, 150],\n",
    "        'max_depth': [None, 10, 20],\n",
    "        'min_samples_split': [2, 5, 10]\n",
    "    }\n",
    "\n",
    "    # Log the grid search parameter grid as a string (since it's nested)\n",
    "    mlflow.log_param(\"param_grid\", str(param_grid))\n",
    "\n",
    "    # Perform GridSearchCV\n",
    "    grid_search = GridSearchCV(estimator=model, param_grid=param_grid, cv=5, scoring='accuracy', verbose=2, n_jobs=-1)\n",
    "    grid_search.fit(X_train, y_train)\n",
    "    \n",
    "    print(\"\\nBest parameters found by GridSearchCV:\", grid_search.best_params_)\n",
    "    best_model = grid_search.best_estimator_\n",
    "\n",
    "    # Log the best parameters\n",
    "    mlflow.log_params(grid_search.best_params_)\n",
    "\n",
    "    # Evaluate on the training set\n",
    "    y_train_pred = best_model.predict(X_train)\n",
    "    train_accuracy = accuracy_score(y_train, y_train_pred)\n",
    "    print(\"\\nTraining Accuracy:\", train_accuracy)\n",
    "\n",
    "    # Evaluate on the test set\n",
    "    y_test_pred = best_model.predict(X_test)\n",
    "    test_accuracy = accuracy_score(y_test, y_test_pred)\n",
    "    print(\"Test Accuracy:\", test_accuracy)\n",
    "\n",
    "    # Log the accuracy as metrics\n",
    "    mlflow.log_metrics({\"train_accuracy\": train_accuracy, \"test_accuracy\": test_accuracy})\n",
    "\n",
    "    # Set custom tags for the experiment\n",
    "    mlflow.set_tags({\"exp\": \"basic ML experiment tracking\"})\n",
    "\n",
    "    # Infer signature for the model\n",
    "    from mlflow.models.signature import infer_signature\n",
    "    signature = infer_signature(X_train, y_train)\n",
    "\n",
    "    # Log the model\n",
    "    mlflow.sklearn.log_model(\n",
    "        sk_model=best_model,\n",
    "        artifact_path=\"iris\",\n",
    "        signature=signature,\n",
    "        input_example=X_test,\n",
    "        registered_model_name=\"RandomForest\"\n",
    "    )"
   ]
  },
  {
   "cell_type": "markdown",
   "metadata": {},
   "source": [
    "## MUTIPLE RUNS WITH DIFFERENT PARAMETERS IN SAME EXPERIMENT WITH A VERSION 2 model registation... \n",
    "#### (version 2 because model is registered with same name as earlier )"
   ]
  },
  {
   "cell_type": "code",
   "execution_count": 27,
   "metadata": {},
   "outputs": [
    {
     "name": "stdout",
     "output_type": "stream",
     "text": [
      "Fitting 5 folds for each of 18 candidates, totalling 90 fits\n",
      "\n",
      "Best parameters found by GridSearchCV: {'max_depth': 5, 'min_samples_split': 2, 'n_estimators': 150}\n",
      "\n",
      "Training Accuracy: 1.0\n",
      "Test Accuracy: 1.0\n"
     ]
    },
    {
     "name": "stderr",
     "output_type": "stream",
     "text": [
      "c:\\Users\\amang\\Downloads\\Mlflow_me\\venv\\lib\\site-packages\\mlflow\\types\\utils.py:435: UserWarning: Hint: Inferred schema contains integer column(s). Integer columns in Python cannot represent missing values. If your input data contains missing values at inference time, it will be encoded as floats and will cause a schema enforcement error. The best way to avoid this problem is to infer the model schema based on a realistic data sample (training dataset) that includes missing values. Alternatively, you can declare integer columns as doubles (float64) whenever these columns may have missing values. See `Handling Integers With Missing Values <https://www.mlflow.org/docs/latest/models.html#handling-integers-with-missing-values>`_ for more details.\n",
      "  warnings.warn(\n",
      "Registered model 'RandomForest' already exists. Creating a new version of this model...\n",
      "2024/12/28 15:04:24 INFO mlflow.store.model_registry.abstract_store: Waiting up to 300 seconds for model version to finish creation. Model name: RandomForest, version 2\n"
     ]
    },
    {
     "name": "stdout",
     "output_type": "stream",
     "text": [
      "🏃 View run clumsy-ox-990 at:  http://127.0.0.1:5000/#/experiments/802956528055571557/runs/1e040d6a5cd548d2a6cd2986500cdcca\n",
      "🧪 View experiment at:  http://127.0.0.1:5000/#/experiments/802956528055571557\n"
     ]
    },
    {
     "name": "stderr",
     "output_type": "stream",
     "text": [
      "Created version '2' of model 'RandomForest'.\n"
     ]
    }
   ],
   "source": [
    "with mlflow.start_run():\n",
    "    model = RandomForestClassifier(random_state=22)\n",
    "    param_grid = {\n",
    "        'n_estimators': [100, 150],\n",
    "        'max_depth': [5, 10, 20],\n",
    "        'min_samples_split': [2, 5, 10]\n",
    "    }\n",
    "\n",
    "    # Log the grid search parameter grid as a string (since it's nested)\n",
    "    mlflow.log_param(\"test_param_grid\", str(param_grid))\n",
    "\n",
    "    # Perform GridSearchCV\n",
    "    grid_search = GridSearchCV(estimator=model, param_grid=param_grid, cv=5, scoring='accuracy', verbose=2, n_jobs=-1)\n",
    "    grid_search.fit(X_train, y_train)\n",
    "    \n",
    "    print(\"\\nBest parameters found by GridSearchCV:\", grid_search.best_params_)\n",
    "    best_model = grid_search.best_estimator_\n",
    "\n",
    "    # Log the best parameters\n",
    "    mlflow.log_params(grid_search.best_params_)\n",
    "\n",
    "    # Evaluate on the training set\n",
    "    y_train_pred = best_model.predict(X_train)\n",
    "    train_accuracy = accuracy_score(y_train, y_train_pred)\n",
    "    print(\"\\nTraining Accuracy:\", train_accuracy)\n",
    "\n",
    "    # Evaluate on the test set\n",
    "    y_test_pred = best_model.predict(X_test)\n",
    "    test_accuracy = accuracy_score(y_test, y_test_pred)\n",
    "    print(\"Test Accuracy:\", test_accuracy)\n",
    "\n",
    "    # Log the accuracy as metrics\n",
    "    mlflow.log_metrics({\"train_accuracy\": train_accuracy, \"test_accuracy\": test_accuracy})\n",
    "\n",
    "    # Set custom tags for the experiment\n",
    "    mlflow.set_tags({\"exp\": \"basic ML experiment tracking\"})\n",
    "\n",
    "    # Infer signature for the model\n",
    "    from mlflow.models.signature import infer_signature\n",
    "    signature = infer_signature(X_train, y_train)\n",
    "\n",
    "    # Log the model\n",
    "    mlflow.sklearn.log_model(\n",
    "        sk_model=best_model,\n",
    "        artifact_path=\"iris\",\n",
    "        signature=signature,\n",
    "        input_example=X_test,\n",
    "        registered_model_name=\"RandomForest\"\n",
    "    )"
   ]
  },
  {
   "cell_type": "markdown",
   "metadata": {},
   "source": [
    "## Inferencing from mlflow artifacts "
   ]
  },
  {
   "cell_type": "code",
   "execution_count": 28,
   "metadata": {},
   "outputs": [
    {
     "data": {
      "text/plain": [
       "array([1, 0, 2, 1, 1, 0, 1, 2, 1, 1, 2, 0, 0, 0, 0, 1, 2, 1, 1, 2, 0, 2,\n",
       "       0, 2, 2, 2, 2, 2, 0, 0])"
      ]
     },
     "execution_count": 28,
     "metadata": {},
     "output_type": "execute_result"
    }
   ],
   "source": [
    "from mlflow.models import validate_serving_input\n",
    "\n",
    "model_uri = 'runs:/1e040d6a5cd548d2a6cd2986500cdcca/iris'\n",
    "\n",
    "# The model is logged with an input example. MLflow converts\n",
    "# it into the serving payload format for the deployed model endpoint,\n",
    "# and saves it to 'serving_input_payload.json'\n",
    "serving_payload = \"\"\"{\n",
    "  \"inputs\": [\n",
    "    [\n",
    "      0.310997534138703,\n",
    "      -0.5923730118389191,\n",
    "      0.5354085615261401,\n",
    "      0.0008775478952676988\n",
    "    ],\n",
    "    [\n",
    "      -0.1736739476359015,\n",
    "      1.7095946507475455,\n",
    "      -1.169714245881954,\n",
    "      -1.18381211071744\n",
    "    ],\n",
    "    [\n",
    "      2.249683461237124,\n",
    "      -1.0527665443562113,\n",
    "      1.7858319536254093,\n",
    "      1.448831575088577\n",
    "    ],\n",
    "    [\n",
    "      0.18982966369505214,\n",
    "      -0.36217624558027245,\n",
    "      0.42173370769893376,\n",
    "      0.3957741007661703\n",
    "    ],\n",
    "    [\n",
    "      1.1591726272442622,\n",
    "      -0.5923730118389191,\n",
    "      0.5922459884397431,\n",
    "      0.2641419164758693\n",
    "    ],\n",
    "    [\n",
    "      -0.5371775589668552,\n",
    "      0.7888075857129598,\n",
    "      -1.2833890997091604,\n",
    "      -1.052179926427139\n",
    "    ],\n",
    "    [\n",
    "      -0.29484181807955345,\n",
    "      -0.36217624558027245,\n",
    "      -0.08980313452349442,\n",
    "      0.13250973218556866\n",
    "    ],\n",
    "    [\n",
    "      1.2803404976879142,\n",
    "      0.09821728693702086,\n",
    "      0.7627582691805523,\n",
    "      1.448831575088577\n",
    "    ],\n",
    "    [\n",
    "      0.4321654045823549,\n",
    "      -1.973553609390797,\n",
    "      0.42173370769893376,\n",
    "      0.3957741007661703\n",
    "    ],\n",
    "    [\n",
    "      -0.052506077192250644,\n",
    "      -0.8225697780975647,\n",
    "      0.08070914621731488,\n",
    "      0.0008775478952676988\n",
    "    ],\n",
    "    [\n",
    "      0.7956690159133086,\n",
    "      0.3284140531956675,\n",
    "      0.7627582691805523,\n",
    "      1.0539350222176747\n",
    "    ],\n",
    "    [\n",
    "      -1.2641847816287635,\n",
    "      -0.1319794793216258,\n",
    "      -1.3402265266227635,\n",
    "      -1.4470764792980415\n",
    "    ],\n",
    "    [\n",
    "      -0.4160096885232043,\n",
    "      1.0190043519716065,\n",
    "      -1.3970639535363667,\n",
    "      -1.3154442950077407\n",
    "    ],\n",
    "    [\n",
    "      -1.1430169111851116,\n",
    "      0.09821728693702086,\n",
    "      -1.2833890997091604,\n",
    "      -1.4470764792980415\n",
    "    ],\n",
    "    [\n",
    "      -0.9006811702978099,\n",
    "      1.7095946507475455,\n",
    "      -1.2833890997091604,\n",
    "      -1.18381211071744\n",
    "    ],\n",
    "    [\n",
    "      0.5533332750260058,\n",
    "      0.5586108194543131,\n",
    "      0.5354085615261401,\n",
    "      0.5274062850564712\n",
    "    ],\n",
    "    [\n",
    "      0.7956690159133086,\n",
    "      -0.1319794793216258,\n",
    "      1.1606202575757745,\n",
    "      1.3171993907982766\n",
    "    ],\n",
    "    [\n",
    "      -0.29484181807955345,\n",
    "      -1.282963310614858,\n",
    "      0.08070914621731488,\n",
    "      -0.13075463639503299\n",
    "    ],\n",
    "    [\n",
    "      -0.1736739476359015,\n",
    "      -0.5923730118389191,\n",
    "      0.42173370769893376,\n",
    "      0.13250973218556866\n",
    "    ],\n",
    "    [\n",
    "      0.6745011454696578,\n",
    "      -0.5923730118389191,\n",
    "      1.0469454037485681,\n",
    "      1.3171993907982766\n",
    "    ],\n",
    "    [\n",
    "      -1.3853526520724144,\n",
    "      0.3284140531956675,\n",
    "      -1.2265516727955572,\n",
    "      -1.3154442950077407\n",
    "    ],\n",
    "    [\n",
    "      0.310997534138703,\n",
    "      -0.1319794793216258,\n",
    "      0.6490834153533465,\n",
    "      0.7906706536370729\n",
    "    ],\n",
    "    [\n",
    "      -1.0218490407414607,\n",
    "      0.7888075857129598,\n",
    "      -1.2265516727955572,\n",
    "      -1.052179926427139\n",
    "    ],\n",
    "    [\n",
    "      0.6745011454696578,\n",
    "      -0.5923730118389191,\n",
    "      1.0469454037485681,\n",
    "      1.1855672065079756\n",
    "    ],\n",
    "    [\n",
    "      2.492019202124427,\n",
    "      1.7095946507475455,\n",
    "      1.5016448190573937,\n",
    "      1.0539350222176747\n",
    "    ],\n",
    "    [\n",
    "      1.0380047568006114,\n",
    "      -0.1319794793216258,\n",
    "      0.8195956960941558,\n",
    "      1.448831575088577\n",
    "    ],\n",
    "    [\n",
    "      1.0380047568006114,\n",
    "      -1.282963310614858,\n",
    "      1.1606202575757745,\n",
    "      0.7906706536370729\n",
    "    ],\n",
    "    [\n",
    "      1.1591726272442622,\n",
    "      0.3284140531956675,\n",
    "      1.2174576844893779,\n",
    "      1.448831575088577\n",
    "    ],\n",
    "    [\n",
    "      -1.2641847816287635,\n",
    "      -0.1319794793216258,\n",
    "      -1.3402265266227635,\n",
    "      -1.18381211071744\n",
    "    ],\n",
    "    [\n",
    "      -1.2641847816287635,\n",
    "      0.09821728693702086,\n",
    "      -1.2265516727955572,\n",
    "      -1.3154442950077407\n",
    "    ]\n",
    "  ]\n",
    "}\"\"\"\n",
    "\n",
    "# Validate the serving payload works on the model\n",
    "validate_serving_input(model_uri, serving_payload)"
   ]
  },
  {
   "cell_type": "code",
   "execution_count": null,
   "metadata": {},
   "outputs": [],
   "source": []
  }
 ],
 "metadata": {
  "kernelspec": {
   "display_name": "venv",
   "language": "python",
   "name": "python3"
  },
  "language_info": {
   "codemirror_mode": {
    "name": "ipython",
    "version": 3
   },
   "file_extension": ".py",
   "mimetype": "text/x-python",
   "name": "python",
   "nbconvert_exporter": "python",
   "pygments_lexer": "ipython3",
   "version": "3.10.16"
  }
 },
 "nbformat": 4,
 "nbformat_minor": 2
}
